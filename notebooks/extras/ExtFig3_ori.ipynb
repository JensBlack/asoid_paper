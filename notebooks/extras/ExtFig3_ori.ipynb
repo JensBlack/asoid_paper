{
 "cells": [
  {
   "cell_type": "markdown",
   "metadata": {
    "id": "jsaWsU8dILfN"
   },
   "source": [
    "# Import necessary modules and packages 📚"
   ]
  },
  {
   "cell_type": "code",
   "execution_count": 12,
   "metadata": {
    "id": "G4CVVoCjIN95",
    "ExecuteTime": {
     "end_time": "2023-12-03T20:15:27.147235Z",
     "start_time": "2023-12-03T20:15:27.118857Z"
    }
   },
   "outputs": [],
   "source": [
    "import joblib\n",
    "import matplotlib.pyplot as plt\n",
    "import numpy as np\n",
    "import seaborn as sns\n",
    "from tqdm import tqdm\n",
    "from scipy import stats"
   ]
  },
  {
   "cell_type": "markdown",
   "metadata": {
    "id": "KwykJ9kzvTRZ"
   },
   "source": [
    "# load dataset\n"
   ]
  },
  {
   "cell_type": "code",
   "execution_count": 4,
   "outputs": [],
   "source": [
    "with open(r'/Users/alexanderhsu/Google Drive/My Drive/2023Data/asoid_manuscript/shuffled_train_data.sav', 'rb') as fr:\n",
    "    [features_runlist, targets_runlist] = joblib.load(fr)\n",
    "with open(r'/Users/alexanderhsu/Google Drive/My Drive/2023Data/asoid_manuscript/ALL_train_data.sav', 'rb') as fr:\n",
    "    [train_datalist, features_train, scaled_features_train, scaler, targets_10hz_mode] = joblib.load(fr)\n",
    "with open(r'/Users/alexanderhsu/Google Drive/My Drive/2023Data/asoid_manuscript/active_learning_fixed_originalgroups.sav', 'rb') as fr:\n",
    "    [X_train_list, Y_train_list,\n",
    "     iterX_f1_scores_list, iterX_macro_scores_list, iterX_predict_prob_list,\n",
    "     sampled_idx_list] = joblib.load(fr)"
   ],
   "metadata": {
    "collapsed": false,
    "ExecuteTime": {
     "end_time": "2023-12-03T20:11:17.284127Z",
     "start_time": "2023-12-03T20:11:16.609225Z"
    }
   }
  },
  {
   "cell_type": "markdown",
   "metadata": {},
   "source": [
    "## check where the refined indices are"
   ]
  },
  {
   "cell_type": "code",
   "execution_count": 5,
   "metadata": {
    "ExecuteTime": {
     "end_time": "2023-12-03T20:12:42.426531Z",
     "start_time": "2023-12-03T20:12:42.419578Z"
    }
   },
   "outputs": [],
   "source": [
    "from sklearn.metrics.cluster import adjusted_mutual_info_score\n",
    "def transition_matrix(transitions):\n",
    "    n = 4\n",
    "\n",
    "    M = [[0]*n for _ in range(n)]\n",
    "\n",
    "    for (i,j) in zip(transitions,transitions[1:]):\n",
    "        M[i][j] += 1\n",
    "        \n",
    "    return M"
   ]
  },
  {
   "cell_type": "code",
   "execution_count": 6,
   "metadata": {
    "ExecuteTime": {
     "end_time": "2023-12-03T20:13:06.606333Z",
     "start_time": "2023-12-03T20:12:44.411480Z"
    }
   },
   "outputs": [],
   "source": [
    "refined_indices = []\n",
    "for i in range(X_train_list[-1][5].shape[0]):\n",
    "    refined_indices.append(np.where(scaled_features_train == X_train_list[-1][5][i, :])[0][0])"
   ]
  },
  {
   "cell_type": "code",
   "execution_count": 7,
   "metadata": {
    "ExecuteTime": {
     "end_time": "2023-12-03T20:14:47.129788Z",
     "start_time": "2023-12-03T20:14:47.073195Z"
    }
   },
   "outputs": [
    {
     "name": "stdout",
     "output_type": "stream",
     "text": [
      "(1973, 100) (1973,)\n"
     ]
    }
   ],
   "source": [
    "it = 19\n",
    "i = 5\n",
    "total_counts_it = [len(np.where(Y_train_list[it][i]==b)[0]) for b in np.unique(Y_train_list[it][i])]\n",
    "X_samp = []\n",
    "Y_samp = []\n",
    "for j in range(len(total_counts_it)):\n",
    "    idx_b = np.where(targets_runlist[i] == j)[0]\n",
    "    X_samp.append(features_runlist[i][idx_b[:total_counts_it[int(j)]]])\n",
    "    Y_samp.append(targets_runlist[i][idx_b[:total_counts_it[int(j)]]])\n",
    "X_samp_ = np.vstack(X_samp)\n",
    "Y_samp_ = np.hstack(Y_samp)\n",
    "print(X_samp_.shape, Y_samp_.shape)"
   ]
  },
  {
   "cell_type": "code",
   "execution_count": 8,
   "metadata": {
    "ExecuteTime": {
     "end_time": "2023-12-03T20:15:16.823456Z",
     "start_time": "2023-12-03T20:14:54.262Z"
    }
   },
   "outputs": [],
   "source": [
    "random_indices_emb = []\n",
    "for i in range(X_samp_.shape[0]):\n",
    "    random_indices_emb.append(np.where(scaled_features_train == X_samp_[i, :])[0][0])"
   ]
  },
  {
   "cell_type": "code",
   "execution_count": 9,
   "metadata": {
    "ExecuteTime": {
     "end_time": "2023-12-03T20:15:16.833092Z",
     "start_time": "2023-12-03T20:15:16.821809Z"
    }
   },
   "outputs": [],
   "source": [
    "transitions = []\n",
    "transition_matrices = []\n",
    "for index_ in refined_indices:\n",
    "    transitions.append(targets_10hz_mode[index_-1:index_+1])\n",
    "    transition_matrices.append(np.array(transition_matrix(transitions[-1].astype(int))))"
   ]
  },
  {
   "cell_type": "code",
   "execution_count": 10,
   "metadata": {
    "ExecuteTime": {
     "end_time": "2023-12-03T20:15:16.846856Z",
     "start_time": "2023-12-03T20:15:16.833210Z"
    }
   },
   "outputs": [],
   "source": [
    "transitions_randemb = []\n",
    "transition_matrices_randemb = []\n",
    "for index_ in random_indices_emb:\n",
    "    transitions_randemb.append(targets_10hz_mode[index_-1:index_+1])\n",
    "    transition_matrices_randemb.append(np.array(transition_matrix(transitions_randemb[-1].astype(int))))"
   ]
  },
  {
   "cell_type": "code",
   "execution_count": 13,
   "metadata": {
    "ExecuteTime": {
     "end_time": "2023-12-03T20:15:30.388289Z",
     "start_time": "2023-12-03T20:15:30.263425Z"
    }
   },
   "outputs": [
    {
     "data": {
      "text/plain": "<Figure size 400x300 with 2 Axes>",
      "image/png": "[encoded data removed]"
     },
     "metadata": {},
     "output_type": "display_data"
    }
   ],
   "source": [
    "mean_transition = np.mean(transition_matrices, axis=0)\n",
    "fig, ax = plt.subplots(1, 1, figsize=(4, 3))\n",
    "sns.heatmap(mean_transition, vmin=0, vmax=0.1, ax=ax)\n",
    "plt.show()\n",
    "# fig.savefig(r'I:\\My Drive\\manuscript_figures\\asoid\\suppfig1\\panels\\activelearning_sampled_timepoints_pre.png', dpi=600)\n",
    "# fig.savefig(r'I:\\My Drive\\manuscript_figures\\asoid\\suppfig1\\panels\\activelearning_sampled_timepoints_pre.svg', dpi=600)"
   ]
  },
  {
   "cell_type": "code",
   "execution_count": 14,
   "outputs": [
    {
     "data": {
      "text/plain": "<Figure size 400x300 with 2 Axes>",
      "image/png": "[encoded data removed]"
     },
     "metadata": {},
     "output_type": "display_data"
    }
   ],
   "source": [
    "mean_transition_randemb = np.mean(transition_matrices_randemb, axis=0)\n",
    "fig, ax = plt.subplots(1, 1, figsize=(4, 3))\n",
    "sns.heatmap(mean_transition_randemb, vmin=0, vmax=0.1, ax=ax)\n",
    "plt.show()\n",
    "# fig.savefig(r'I:\\My Drive\\manuscript_figures\\asoid\\suppfig1\\panels\\activelearning_random_timepoints_pre.png', dpi=600)\n",
    "# fig.savefig(r'I:\\My Drive\\manuscript_figures\\asoid\\suppfig1\\panels\\activelearning_random_timepoints_pre.svg', dpi=600)"
   ],
   "metadata": {
    "collapsed": false,
    "ExecuteTime": {
     "start_time": "2023-12-03T20:15:42.287645Z"
    }
   }
  },
  {
   "cell_type": "code",
   "execution_count": 15,
   "metadata": {
    "ExecuteTime": {
     "end_time": "2023-12-03T20:15:49.862236Z",
     "start_time": "2023-12-03T20:15:49.842044Z"
    }
   },
   "outputs": [],
   "source": [
    "transitions_2 = []\n",
    "transition_matrices_2 = []\n",
    "for index_ in refined_indices:\n",
    "    transitions_2.append(targets_10hz_mode[index_:index_+2])\n",
    "    transition_matrices_2.append(np.array(transition_matrix(transitions_2[-1].astype(int))))"
   ]
  },
  {
   "cell_type": "code",
   "execution_count": 16,
   "metadata": {
    "ExecuteTime": {
     "end_time": "2023-12-03T20:15:50.610670Z",
     "start_time": "2023-12-03T20:15:50.592928Z"
    }
   },
   "outputs": [],
   "source": [
    "transitions_randemb_2 = []\n",
    "transition_matrices_randemb_2 = []\n",
    "for index_ in random_indices_emb:\n",
    "    transitions_randemb_2.append(targets_10hz_mode[index_:index_+2])\n",
    "    transition_matrices_randemb_2.append(np.array(transition_matrix(transitions_randemb_2[-1].astype(int))))"
   ]
  },
  {
   "cell_type": "code",
   "execution_count": 17,
   "metadata": {
    "ExecuteTime": {
     "end_time": "2023-12-03T20:15:54.607503Z",
     "start_time": "2023-12-03T20:15:54.503141Z"
    }
   },
   "outputs": [
    {
     "data": {
      "text/plain": "<Figure size 400x300 with 2 Axes>",
      "image/png": "[encoded data removed]"
     },
     "metadata": {},
     "output_type": "display_data"
    }
   ],
   "source": [
    "mean_transition_2 = np.mean(transition_matrices_2, axis=0)\n",
    "fig, ax = plt.subplots(1, 1, figsize=(4, 3))\n",
    "sns.heatmap(mean_transition_2, vmin=0, vmax=0.1, ax=ax)\n",
    "plt.show()\n",
    "# fig.savefig(r'I:\\My Drive\\manuscript_figures\\asoid\\suppfig1\\panels\\activelearning_sampled_timepoints_post.png', dpi=600)\n",
    "# fig.savefig(r'I:\\My Drive\\manuscript_figures\\asoid\\suppfig1\\panels\\activelearning_sampled_timepoints_post.svg', dpi=600)"
   ]
  },
  {
   "cell_type": "code",
   "execution_count": 18,
   "metadata": {
    "ExecuteTime": {
     "end_time": "2023-12-03T20:15:59.498186Z",
     "start_time": "2023-12-03T20:15:59.382775Z"
    }
   },
   "outputs": [
    {
     "data": {
      "text/plain": "<Figure size 400x300 with 2 Axes>",
      "image/png": "[encoded data removed]"
     },
     "metadata": {},
     "output_type": "display_data"
    }
   ],
   "source": [
    "mean_transition_randemb_2 = np.mean(transition_matrices_randemb_2, axis=0)\n",
    "fig, ax = plt.subplots(1, 1, figsize=(4, 3))\n",
    "sns.heatmap(mean_transition_randemb_2, vmin=0, vmax=0.1, ax=ax)\n",
    "plt.show()\n",
    "# fig.savefig(r'I:\\My Drive\\manuscript_figures\\asoid\\suppfig1\\panels\\activelearning_random_timepoints_post.png', dpi=600)\n",
    "# fig.savefig(r'I:\\My Drive\\manuscript_figures\\asoid\\suppfig1\\panels\\activelearning_random_timepoints_post.svg', dpi=600)"
   ]
  },
  {
   "cell_type": "markdown",
   "source": [
    "## quantify"
   ],
   "metadata": {
    "collapsed": false
   }
  },
  {
   "cell_type": "code",
   "execution_count": 19,
   "outputs": [
    {
     "name": "stderr",
     "output_type": "stream",
     "text": [
      "  5%|▌         | 1/20 [00:46<14:42, 46.47s/it]"
     ]
    },
    {
     "name": "stdout",
     "output_type": "stream",
     "text": [
      "(1997,) (1997,)\n"
     ]
    },
    {
     "name": "stderr",
     "output_type": "stream",
     "text": [
      " 10%|█         | 2/20 [01:32<13:48, 46.05s/it]"
     ]
    },
    {
     "name": "stdout",
     "output_type": "stream",
     "text": [
      "(2053,) (2053,)\n"
     ]
    },
    {
     "name": "stderr",
     "output_type": "stream",
     "text": [
      " 15%|█▌        | 3/20 [02:16<12:50, 45.30s/it]"
     ]
    },
    {
     "name": "stdout",
     "output_type": "stream",
     "text": [
      "(2005,) (2005,)\n"
     ]
    },
    {
     "name": "stderr",
     "output_type": "stream",
     "text": [
      " 20%|██        | 4/20 [03:03<12:15, 46.00s/it]"
     ]
    },
    {
     "name": "stdout",
     "output_type": "stream",
     "text": [
      "(2051,) (2051,)\n"
     ]
    },
    {
     "name": "stderr",
     "output_type": "stream",
     "text": [
      " 25%|██▌       | 5/20 [03:47<11:19, 45.30s/it]"
     ]
    },
    {
     "name": "stdout",
     "output_type": "stream",
     "text": [
      "(1981,) (1981,)\n"
     ]
    },
    {
     "name": "stderr",
     "output_type": "stream",
     "text": [
      " 30%|███       | 6/20 [04:31<10:27, 44.80s/it]"
     ]
    },
    {
     "name": "stdout",
     "output_type": "stream",
     "text": [
      "(1973,) (1973,)\n"
     ]
    },
    {
     "name": "stderr",
     "output_type": "stream",
     "text": [
      " 35%|███▌      | 7/20 [05:16<09:43, 44.86s/it]"
     ]
    },
    {
     "name": "stdout",
     "output_type": "stream",
     "text": [
      "(2014,) (2014,)\n"
     ]
    },
    {
     "name": "stderr",
     "output_type": "stream",
     "text": [
      " 40%|████      | 8/20 [06:02<09:03, 45.31s/it]"
     ]
    },
    {
     "name": "stdout",
     "output_type": "stream",
     "text": [
      "(2043,) (2043,)\n"
     ]
    },
    {
     "name": "stderr",
     "output_type": "stream",
     "text": [
      " 45%|████▌     | 9/20 [06:47<08:16, 45.16s/it]"
     ]
    },
    {
     "name": "stdout",
     "output_type": "stream",
     "text": [
      "(1992,) (1992,)\n"
     ]
    },
    {
     "name": "stderr",
     "output_type": "stream",
     "text": [
      " 50%|█████     | 10/20 [07:32<07:30, 45.03s/it]"
     ]
    },
    {
     "name": "stdout",
     "output_type": "stream",
     "text": [
      "(1993,) (1993,)\n"
     ]
    },
    {
     "name": "stderr",
     "output_type": "stream",
     "text": [
      " 55%|█████▌    | 11/20 [08:18<06:49, 45.47s/it]"
     ]
    },
    {
     "name": "stdout",
     "output_type": "stream",
     "text": [
      "(2079,) (2079,)\n"
     ]
    },
    {
     "name": "stderr",
     "output_type": "stream",
     "text": [
      " 60%|██████    | 12/20 [09:03<06:01, 45.16s/it]"
     ]
    },
    {
     "name": "stdout",
     "output_type": "stream",
     "text": [
      "(1967,) (1967,)\n"
     ]
    },
    {
     "name": "stderr",
     "output_type": "stream",
     "text": [
      " 65%|██████▌   | 13/20 [09:48<05:16, 45.18s/it]"
     ]
    },
    {
     "name": "stdout",
     "output_type": "stream",
     "text": [
      "(2007,) (2007,)\n"
     ]
    },
    {
     "name": "stderr",
     "output_type": "stream",
     "text": [
      " 70%|███████   | 14/20 [10:33<04:30, 45.10s/it]"
     ]
    },
    {
     "name": "stdout",
     "output_type": "stream",
     "text": [
      "(2015,) (2015,)\n"
     ]
    },
    {
     "name": "stderr",
     "output_type": "stream",
     "text": [
      " 75%|███████▌  | 15/20 [11:20<03:48, 45.64s/it]"
     ]
    },
    {
     "name": "stdout",
     "output_type": "stream",
     "text": [
      "(2025,) (2025,)\n"
     ]
    },
    {
     "name": "stderr",
     "output_type": "stream",
     "text": [
      " 80%|████████  | 16/20 [12:07<03:03, 45.96s/it]"
     ]
    },
    {
     "name": "stdout",
     "output_type": "stream",
     "text": [
      "(1983,) (1983,)\n"
     ]
    },
    {
     "name": "stderr",
     "output_type": "stream",
     "text": [
      " 85%|████████▌ | 17/20 [13:02<02:26, 48.69s/it]"
     ]
    },
    {
     "name": "stdout",
     "output_type": "stream",
     "text": [
      "(2049,) (2049,)\n"
     ]
    },
    {
     "name": "stderr",
     "output_type": "stream",
     "text": [
      " 90%|█████████ | 18/20 [13:49<01:36, 48.32s/it]"
     ]
    },
    {
     "name": "stdout",
     "output_type": "stream",
     "text": [
      "(2066,) (2066,)\n"
     ]
    },
    {
     "name": "stderr",
     "output_type": "stream",
     "text": [
      " 95%|█████████▌| 19/20 [14:34<00:47, 47.40s/it]"
     ]
    },
    {
     "name": "stdout",
     "output_type": "stream",
     "text": [
      "(2030,) (2030,)\n"
     ]
    },
    {
     "name": "stderr",
     "output_type": "stream",
     "text": [
      "100%|██████████| 20/20 [15:19<00:00, 45.95s/it]"
     ]
    },
    {
     "name": "stdout",
     "output_type": "stream",
     "text": [
      "(1993,) (1993,)\n"
     ]
    },
    {
     "name": "stderr",
     "output_type": "stream",
     "text": [
      "\n"
     ]
    }
   ],
   "source": [
    "refined_indices_list = []\n",
    "random_indices_list = []\n",
    "for cv in tqdm(range(len(X_train_list[-1]))):\n",
    "    ref_indices = []\n",
    "    for i in range(X_train_list[-1][cv].shape[0]):\n",
    "        ref_indices.append(np.where(scaled_features_train == X_train_list[-1][cv][i, :])[0][0])\n",
    "    refined_indices_list.append(ref_indices)\n",
    "\n",
    "    total_counts_it = [len(np.where(Y_train_list[-1][cv]==b)[0]) for b in np.unique(Y_train_list[-1][cv])]\n",
    "    X_samp = []\n",
    "    for j in range(len(total_counts_it)):\n",
    "        idx_b = np.where(targets_runlist[cv] == j)[0]\n",
    "        X_samp.append(features_runlist[cv][idx_b[:total_counts_it[int(j)]]])\n",
    "    X_samp_ = np.vstack(X_samp)\n",
    "    rand_indices_emb = []\n",
    "    for j in range(X_samp_.shape[0]):\n",
    "        rand_indices_emb.append(np.where(scaled_features_train == X_samp_[j, :])[0][0])\n",
    "    random_indices_list.append(rand_indices_emb)\n",
    "    print(np.hstack(refined_indices_list[-1]).shape, np.hstack(random_indices_list[-1]).shape)"
   ],
   "metadata": {
    "collapsed": false
   }
  },
  {
   "cell_type": "code",
   "execution_count": 20,
   "outputs": [
    {
     "name": "stderr",
     "output_type": "stream",
     "text": [
      "100%|██████████| 20/20 [00:00<00:00, 47.01it/s]\n"
     ]
    },
    {
     "data": {
      "text/plain": "([[0.5234785097795734, 0.563671588734894],\n  [0.5258686248959935, 0.5544580349883151],\n  [0.5232698458331111, 0.564797737584041],\n  [0.5215606487819509, 0.5667779242852691],\n  [0.517643298912601, 0.561236197709056],\n  [0.5301565012635898, 0.5625747364098578],\n  [0.513991322715902, 0.5709688365441358],\n  [0.5232140336188579, 0.5576198325135159],\n  [0.5255948102366799, 0.5590970973504396],\n  [0.515209723799639, 0.5638706921016221],\n  [0.5162487148969831, 0.5614646332935476],\n  [0.5243681148354243, 0.5674682593214232],\n  [0.53450991178812, 0.5598620249445635],\n  [0.5316286309875848, 0.5663234369790617],\n  [0.5163217701961201, 0.5545001824177372],\n  [0.5284255799242429, 0.5654790286195213],\n  [0.5276272606281002, 0.5604140114170227],\n  [0.5231166271279672, 0.5641146598735594],\n  [0.5215451211103449, 0.5640676400186182],\n  [0.5204218964911769, 0.5617204923781477]],\n [[0.6750222965986046, 0.6823586647330462],\n  [0.6603713027726625, 0.668629438458744],\n  [0.6806043173364875, 0.6708632323289472],\n  [0.6463379254526394, 0.6552759528930893],\n  [0.6612931223661572, 0.6674008867775998],\n  [0.6989103679610151, 0.6537274504492923],\n  [0.6794145622866148, 0.6631913062254926],\n  [0.6611765343361927, 0.6732646833138438],\n  [0.6869454603654107, 0.6860475606720453],\n  [0.6692686743611588, 0.6663268835603193],\n  [0.6616775831873529, 0.6566377309798211],\n  [0.6629298670459952, 0.6669139563863519],\n  [0.6679035350289355, 0.667868898651908],\n  [0.6729106125968931, 0.6801799352683789],\n  [0.6471696634450886, 0.65729632849791],\n  [0.6751381335430229, 0.6587045263496969],\n  [0.703607486143104, 0.6772637961196188],\n  [0.671562092203289, 0.6569418565240023],\n  [0.6967268553967562, 0.6558996517795649],\n  [0.642352957217881, 0.6675581942898285]])"
     },
     "execution_count": 20,
     "metadata": {},
     "output_type": "execute_result"
    }
   ],
   "source": [
    "ami_scores = []\n",
    "ami_scores_rand = []\n",
    "for ii in tqdm(range(len(refined_indices_list))):\n",
    "    ami_scores.append([adjusted_mutual_info_score(targets_10hz_mode[np.hstack(refined_indices_list[ii])-1],\n",
    "                                                  targets_10hz_mode[np.hstack(refined_indices_list[ii])]), \n",
    "                       adjusted_mutual_info_score(targets_10hz_mode[np.hstack(refined_indices_list[ii])+1],\n",
    "                                                  targets_10hz_mode[np.hstack(refined_indices_list[ii])])])\n",
    "    ami_scores_rand.append([adjusted_mutual_info_score(targets_10hz_mode[np.hstack(random_indices_list[ii])-1],\n",
    "                                                       targets_10hz_mode[np.hstack(random_indices_list[ii])]), \n",
    "                            adjusted_mutual_info_score(targets_10hz_mode[np.hstack(random_indices_list[ii])+1],\n",
    "                                                       targets_10hz_mode[np.hstack(random_indices_list[ii])])])            \n",
    "ami_scores, ami_scores_rand          "
   ],
   "metadata": {
    "collapsed": false
   }
  },
  {
   "cell_type": "code",
   "execution_count": 50,
   "outputs": [],
   "source": [
    "ami_scores = np.load('../../processed_data/ami_scores.npy')\n",
    "ami_scores_rand = np.load('../../processed_data/ami_scores_random.npy')"
   ],
   "metadata": {
    "collapsed": false,
    "ExecuteTime": {
     "end_time": "2023-12-03T20:48:45.641149Z",
     "start_time": "2023-12-03T20:48:45.625973Z"
    }
   }
  },
  {
   "cell_type": "code",
   "execution_count": 21,
   "metadata": {
    "ExecuteTime": {
     "end_time": "2023-12-03T20:36:49.307534Z",
     "start_time": "2023-12-03T20:36:49.257767Z"
    }
   },
   "outputs": [
    {
     "data": {
      "text/plain": "<Figure size 300x400 with 1 Axes>",
      "image/png": "[encoded data removed]"
     },
     "metadata": {},
     "output_type": "display_data"
    }
   ],
   "source": [
    "cols = 1\n",
    "fig, ax = plt.subplots(1, cols, figsize=(3, 4), sharey=True)\n",
    "sns.boxplot(data = [np.array(ami_scores)[:, 0], np.array(ami_scores_rand)[:, 0]] , saturation=1,\n",
    "            ax=ax, width=0.3, palette=['deepskyblue', 'navy'], medianprops={\"color\": \"gray\"}, \n",
    "            linewidth=1.5, showcaps=False)\n",
    "ax.set_xticklabels('')\n",
    "ax.set_yticks(np.arange(0.5, 0.75, 0.05))\n",
    "ax.spines['right'].set_visible(False)\n",
    "ax.spines['top'].set_visible(False)\n",
    "\n",
    "plt.show()\n",
    "# fig.savefig(r'I:\\My Drive\\manuscript_figures\\asoid\\suppfig1\\panels\\activelearning_transition_amiquant_pre.png', dpi=600)\n",
    "# fig.savefig(r'I:\\My Drive\\manuscript_figures\\asoid\\suppfig1\\panels\\activelearning_transition_amiquant_pre.svg', dpi=600)"
   ]
  },
  {
   "cell_type": "code",
   "execution_count": 22,
   "metadata": {
    "ExecuteTime": {
     "end_time": "2023-12-03T20:36:52.197377Z",
     "start_time": "2023-12-03T20:36:52.149150Z"
    }
   },
   "outputs": [
    {
     "data": {
      "text/plain": "<Figure size 300x400 with 1 Axes>",
      "image/png": "[encoded data removed]"
     },
     "metadata": {},
     "output_type": "display_data"
    }
   ],
   "source": [
    "cols = 1\n",
    "fig, ax = plt.subplots(1, cols, figsize=(3, 4), sharey=True)\n",
    "sns.boxplot(data = [np.array(ami_scores)[:, 1], np.array(ami_scores_rand)[:, 1]] , saturation=1,\n",
    "            ax=ax, width=0.3, palette=['deepskyblue', 'navy'], medianprops={\"color\": \"gray\"}, \n",
    "            linewidth=1.5, showcaps=False)\n",
    "ax.set_xticklabels('')\n",
    "ax.set_yticks(np.arange(0.5, 0.75, 0.05))\n",
    "ax.spines['right'].set_visible(False)\n",
    "ax.spines['top'].set_visible(False)\n",
    "\n",
    "plt.show()\n",
    "# fig.savefig(r'I:\\My Drive\\manuscript_figures\\asoid\\suppfig1\\panels\\activelearning_transition_amiquant_post.png', dpi=600)\n",
    "# fig.savefig(r'I:\\My Drive\\manuscript_figures\\asoid\\suppfig1\\panels\\activelearning_transition_amiquant_post.svg', dpi=600)"
   ]
  },
  {
   "cell_type": "code",
   "execution_count": 47,
   "metadata": {
    "ExecuteTime": {
     "end_time": "2023-12-03T20:45:59.190919Z",
     "start_time": "2023-12-03T20:45:59.177728Z"
    }
   },
   "outputs": [
    {
     "data": {
      "text/plain": "Ttest_indResult(statistic=-37.14616032645002, pvalue=8.886880533428288e-32)"
     },
     "execution_count": 47,
     "metadata": {},
     "output_type": "execute_result"
    }
   ],
   "source": [
    "sample1 = np.array(ami_scores)[:, 0]\n",
    "sample2 = np.array(ami_scores_rand)[:, 0]\n",
    "stats.ttest_ind(np.array(ami_scores)[:, 0], np.array(ami_scores_rand)[:, 0], alternative='less')"
   ]
  },
  {
   "cell_type": "code",
   "execution_count": 48,
   "metadata": {
    "ExecuteTime": {
     "end_time": "2023-12-03T20:46:08.127929Z",
     "start_time": "2023-12-03T20:46:08.112655Z"
    }
   },
   "outputs": [
    {
     "data": {
      "text/plain": "Ttest_indResult(statistic=-44.421202881744534, pvalue=1.1538660984412657e-34)"
     },
     "execution_count": 48,
     "metadata": {},
     "output_type": "execute_result"
    }
   ],
   "source": [
    "sample1 = np.array(ami_scores)[:, 1]\n",
    "sample2 = np.array(ami_scores_rand)[:, 1]\n",
    "stats.ttest_ind(np.array(ami_scores)[:, 1], np.array(ami_scores_rand)[:, 1], alternative='less')"
   ]
  },
  {
   "cell_type": "code",
   "execution_count": null,
   "outputs": [],
   "source": [],
   "metadata": {
    "collapsed": false
   }
  }
 ],
 "metadata": {
  "accelerator": "GPU",
  "colab": {
   "collapsed_sections": [],
   "name": "MABe_Task_1_BSOiD_Classification.ipynb",
   "provenance": [],
   "toc_visible": true
  },
  "kernelspec": {
   "display_name": "Python 3",
   "language": "python",
   "name": "python3"
  },
  "language_info": {
   "codemirror_mode": {
    "name": "ipython",
    "version": 3
   },
   "file_extension": ".py",
   "mimetype": "text/x-python",
   "name": "python",
   "nbconvert_exporter": "python",
   "pygments_lexer": "ipython3",
   "version": "3.7.4"
  }
 },
 "nbformat": 4,
 "nbformat_minor": 4
}
